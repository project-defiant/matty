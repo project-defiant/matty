{
 "cells": [
  {
   "cell_type": "markdown",
   "metadata": {},
   "source": [
    "# Introduction to pytorch"
   ]
  },
  {
   "cell_type": "code",
   "execution_count": 1,
   "metadata": {},
   "outputs": [],
   "source": [
    "import torch"
   ]
  },
  {
   "cell_type": "code",
   "execution_count": 2,
   "metadata": {},
   "outputs": [
    {
     "name": "stdout",
     "output_type": "stream",
     "text": [
      "GPU: NVIDIA GeForce RTX 4070 is availableb\n",
      "(8, 9)\n"
     ]
    }
   ],
   "source": [
    "if torch.cuda.is_available:\n",
    "    print(f\"GPU: {torch.cuda.get_device_name()} is available\")\n",
    "    print(f\"{torch.cuda.get_device_capability()}\")"
   ]
  },
  {
   "cell_type": "markdown",
   "metadata": {},
   "source": [
    "### Basic information about the tensors\n",
    "Tensor can be either:\n",
    "- scalar \n",
    "- vector\n",
    "- matrix\n",
    "- tensor"
   ]
  },
  {
   "cell_type": "code",
   "execution_count": 3,
   "metadata": {},
   "outputs": [],
   "source": [
    "scalar = torch.tensor(7)\n",
    "vector = torch.tensor([1,7])\n",
    "matrix = torch.tensor([[1,-1], [1,-1]])\n",
    "tensor = torch.tensor([[[1,-1],[1,-1], [1,-1], [1,-1]]])"
   ]
  },
  {
   "cell_type": "code",
   "execution_count": 24,
   "metadata": {},
   "outputs": [
    {
     "name": "stdout",
     "output_type": "stream",
     "text": [
      "scalar: tensor(7)\n",
      "f.size()=torch.Size([])\n",
      "f.shape=torch.Size([])\n",
      "f.dim()=0\n",
      "vector: tensor([1, 7])\n",
      "f.size()=torch.Size([2])\n",
      "f.shape=torch.Size([2])\n",
      "f.dim()=1\n",
      "matrix: tensor([[ 1, -1],\n",
      "        [ 1, -1]])\n",
      "f.size()=torch.Size([2, 2])\n",
      "f.shape=torch.Size([2, 2])\n",
      "f.dim()=2\n",
      "tensor: tensor([[[ 1, -1],\n",
      "         [ 1, -1],\n",
      "         [ 1, -1],\n",
      "         [ 1, -1]]])\n",
      "f.size()=torch.Size([1, 4, 2])\n",
      "f.shape=torch.Size([1, 4, 2])\n",
      "f.dim()=3\n"
     ]
    }
   ],
   "source": [
    "for k,f in {\"scalar\": scalar,\"vector\": vector,\"matrix\":matrix,\"tensor\": tensor}.items():\n",
    "    print(f\"{k}:\", f)\n",
    "    print(f\"{f.size()=}\")\n",
    "    print(f\"{f.shape=}\")\n",
    "    print(f\"{f.dim()=}\")\n"
   ]
  },
  {
   "cell_type": "markdown",
   "metadata": {},
   "source": [
    "### Get information from the tensors\n",
    "\n",
    "1. get dtype - use `tensor.dtype`\n",
    "2. get shape of a tensor - use `tensor.shape`\n",
    "3. get device - use `tensor.device`"
   ]
  },
  {
   "cell_type": "code",
   "execution_count": 23,
   "metadata": {},
   "outputs": [
    {
     "name": "stdout",
     "output_type": "stream",
     "text": [
      "tensor([[0.6492, 0.3663, 0.4746, 0.9975],\n",
      "        [0.1039, 0.4657, 0.4711, 0.9781],\n",
      "        [0.3706, 0.2986, 0.8407, 0.7558]], device='cuda:0')\n",
      "torch.float32\n",
      "torch.Size([3, 4])\n",
      "cuda:0\n",
      "torch.Size([3, 4])\n"
     ]
    }
   ],
   "source": [
    "some_tensor = torch.rand(size=(3, 4), dtype=torch.float32, device=\"cuda\")\n",
    "print(some_tensor)\n",
    "print(some_tensor.dtype) # torch.float32 by default\n",
    "print(some_tensor.shape) # torch.Size[3,4]\n",
    "print(some_tensor.device) # cuda(0) by default cpu\n",
    "\n",
    "print(some_tensor.size())  # semantically equivalent to `some_tensor.shape`\n"
   ]
  },
  {
   "cell_type": "markdown",
   "metadata": {},
   "source": [
    "The above values accomodate almost all issues with testors:\n",
    "* tensors not in the right type\n",
    "* tesnors not in the right shape\n",
    "* tensors not in the same device"
   ]
  },
  {
   "cell_type": "markdown",
   "metadata": {},
   "source": [
    "### Manipulating tensors\n",
    "\n",
    "Tensor operations include\n",
    "* Addition\n",
    "* Subtraction\n",
    "* Multiplication\n",
    "* Division\n",
    "* Matrix multiplication (MatMul)"
   ]
  },
  {
   "cell_type": "code",
   "execution_count": 35,
   "metadata": {},
   "outputs": [
    {
     "name": "stdout",
     "output_type": "stream",
     "text": [
      "tensor([11, 12, 13])\n",
      "tensor([10, 20, 30])\n",
      "tensor([-9, -8, -7])\n",
      "tensor([0.1000, 0.2000, 0.3000])\n"
     ]
    }
   ],
   "source": [
    "tensor = torch.tensor([1,2,3])\n",
    "print(tensor + 10)\n",
    "print(tensor * 10)\n",
    "print(tensor - 10)\n",
    "print(tensor / 10)\n"
   ]
  },
  {
   "cell_type": "markdown",
   "metadata": {},
   "source": [
    "From the context above we can see, that the tensors are immutable within these operations.\n",
    "There are also `torch` operations that do the same under the hood"
   ]
  },
  {
   "cell_type": "code",
   "execution_count": 36,
   "metadata": {},
   "outputs": [
    {
     "name": "stdout",
     "output_type": "stream",
     "text": [
      "tensor([11, 12, 13])\n",
      "tensor([10, 20, 30])\n",
      "tensor([-9, -8, -7])\n",
      "tensor([0.1000, 0.2000, 0.3000])\n"
     ]
    }
   ],
   "source": [
    "print(torch.add(tensor, 10))\n",
    "print(torch.mul(tensor, 10))\n",
    "print(torch.sub(tensor, 10))\n",
    "print(torch.div(tensor, 10))"
   ]
  },
  {
   "cell_type": "code",
   "execution_count": null,
   "metadata": {},
   "outputs": [],
   "source": []
  },
  {
   "cell_type": "code",
   "execution_count": 29,
   "metadata": {},
   "outputs": [
    {
     "data": {
      "text/plain": [
       "tensor([-9, -8, -7])"
      ]
     },
     "execution_count": null,
     "metadata": {},
     "output_type": "execute_result"
    }
   ],
   "source": []
  },
  {
   "cell_type": "code",
   "execution_count": 32,
   "metadata": {},
   "outputs": [
    {
     "data": {
      "text/plain": [
       "tensor([0.1000, 0.2000, 0.3000])"
      ]
     },
     "execution_count": null,
     "metadata": {},
     "output_type": "execute_result"
    }
   ],
   "source": []
  },
  {
   "cell_type": "code",
   "execution_count": 34,
   "metadata": {},
   "outputs": [
    {
     "data": {
      "text/plain": [
       "tensor([10, 20, 30])"
      ]
     },
     "execution_count": null,
     "metadata": {},
     "output_type": "execute_result"
    }
   ],
   "source": []
  }
 ],
 "metadata": {
  "kernelspec": {
   "display_name": ".venv",
   "language": "python",
   "name": "python3"
  },
  "language_info": {
   "codemirror_mode": {
    "name": "ipython",
    "version": 3
   },
   "file_extension": ".py",
   "mimetype": "text/x-python",
   "name": "python",
   "nbconvert_exporter": "python",
   "pygments_lexer": "ipython3",
   "version": "3.11.0"
  }
 },
 "nbformat": 4,
 "nbformat_minor": 2
}
